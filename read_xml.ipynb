{
 "cells": [
  {
   "cell_type": "code",
   "execution_count": 14,
   "metadata": {},
   "outputs": [],
   "source": [
    "import xml.dom.minidom as DM\n",
    "import pandas as pd\n",
    "doc = DM.parse('XPNL_ALL.xml')\n",
    "cols = doc.getElementsByTagName('s:AttributeType')\n",
    "rows = doc.getElementsByTagName('z:row')\n",
    "col_id = [i.getAttribute('name') for i in cols]\n",
    "col_names = [i.getAttribute('rs:name') for i in cols]\n",
    "data = {col_names[i]:[j.getAttribute(col_id[i]) for j in rows] for i in range(cols.length)}\n",
    "output = pd.DataFrame.from_dict(data)\n",
    "output.to_csv('output.csv')"
   ]
  }
 ],
 "metadata": {
  "kernelspec": {
   "display_name": "Python 3.10.7 64-bit",
   "language": "python",
   "name": "python3"
  },
  "language_info": {
   "codemirror_mode": {
    "name": "ipython",
    "version": 3
   },
   "file_extension": ".py",
   "mimetype": "text/x-python",
   "name": "python",
   "nbconvert_exporter": "python",
   "pygments_lexer": "ipython3",
   "version": "3.10.7"
  },
  "orig_nbformat": 4,
  "vscode": {
   "interpreter": {
    "hash": "253cd15c32ffb283b0558be93b097dc27093fe6b891853f454fa08d2f15e4a97"
   }
  }
 },
 "nbformat": 4,
 "nbformat_minor": 2
}
